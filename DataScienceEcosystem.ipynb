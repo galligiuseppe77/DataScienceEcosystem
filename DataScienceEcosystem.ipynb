{
 "cells": [
  {
   "cell_type": "markdown",
   "id": "4b4398af-b09f-4441-8895-3fde42cbacea",
   "metadata": {},
   "source": [
    "# Data Science Tools and Ecosystem"
   ]
  },
  {
   "cell_type": "markdown",
   "id": "0293b30a-aadd-45f6-9bcd-d66969e94c44",
   "metadata": {},
   "source": [
    "In this notebook, Data Science Tools and Ecosystem are summarized.\n"
   ]
  },
  {
   "cell_type": "markdown",
   "id": "e6a73164-ed57-4811-ba68-3beaa1f637a3",
   "metadata": {},
   "source": [
    "Some of the popular languages that Data Scientists use are:\n",
    "\n",
    "1. **Python** (Librerie come Pandas, NumPy, Scikit-learn)  \n",
    "2. **R** (Specializzato in statistica e visualizzazione dati)  \n",
    "3. **SQL** (Gestione e query di database)  \n",
    "4. **Julia** (Alta performance per computazione scientifica)  \n",
    "5. **Scala** (Usato con Apache Spark per Big Data)  "
   ]
  },
  {
   "cell_type": "markdown",
   "id": "d73f9fa5-ac0b-43dc-b7bb-646ac5aa2131",
   "metadata": {},
   "source": [
    "**Objectives:**\n",
    "\n",
    "- List popular languages for Data Science\n",
    "- Identify commonly used libraries for Data Science\n",
    "- Introduce open-source Data Science tools\n",
    "- Demonstrate basic arithmetic operations in Python\n",
    "- Show how to convert units in Python"
   ]
  },
  {
   "cell_type": "markdown",
   "id": "17a84104-a84d-4e36-8ee9-b31277028481",
   "metadata": {},
   "source": [
    "| Data Science Tools |\n",
    "|--------------------|\n",
    "| Jupyter Notebook   |\n",
    "| RStudio            |\n",
    "| VS Code            |"
   ]
  },
  {
   "cell_type": "markdown",
   "id": "658ae57d-994c-48c7-a35f-d0b9a99d29a6",
   "metadata": {},
   "source": [
    "### Below are a few examples of evaluating arithmetic expressions in Python\n",
    "\n",
    "```python\n",
    "# Esempi di espressioni aritmetiche\n",
    "3 + 5      # Addizione\n",
    "7 * 4      # Moltiplicazione\n",
    "15 / 3     # Divisione\n",
    "2 ** 4     # Esponente\n",
    "10 % 3     # Modulo (resto della divisione)"
   ]
  },
  {
   "cell_type": "code",
   "execution_count": 20,
   "id": "4b7bfaa2-1719-4b48-b216-8b88f14954fa",
   "metadata": {},
   "outputs": [
    {
     "data": {
      "text/plain": [
       "17"
      ]
     },
     "execution_count": 20,
     "metadata": {},
     "output_type": "execute_result"
    }
   ],
   "source": [
    "# This is a simple arithmetic expression to multiply then add integers\n",
    "(3 * 4) + 5"
   ]
  },
  {
   "cell_type": "code",
   "execution_count": 22,
   "id": "693aa31e-6983-4c34-939e-1874313c2b5c",
   "metadata": {},
   "outputs": [
    {
     "data": {
      "text/plain": [
       "3.3333333333333335"
      ]
     },
     "execution_count": 22,
     "metadata": {},
     "output_type": "execute_result"
    }
   ],
   "source": [
    "# This will convert 200 minutes to hours by dividing by 60\n",
    "200 / 60"
   ]
  },
  {
   "cell_type": "markdown",
   "id": "4ff13112-e8e5-4ca8-8329-c7c343331ff9",
   "metadata": {},
   "source": [
    "## Author\n",
    "Giuseppe Galli"
   ]
  },
  {
   "cell_type": "code",
   "execution_count": null,
   "id": "08c04f40-bb64-4062-9c04-02c1c3ef77b3",
   "metadata": {},
   "outputs": [],
   "source": []
  }
 ],
 "metadata": {
  "kernelspec": {
   "display_name": "Python [conda env:base] *",
   "language": "python",
   "name": "conda-base-py"
  },
  "language_info": {
   "codemirror_mode": {
    "name": "ipython",
    "version": 3
   },
   "file_extension": ".py",
   "mimetype": "text/x-python",
   "name": "python",
   "nbconvert_exporter": "python",
   "pygments_lexer": "ipython3",
   "version": "3.12.7"
  }
 },
 "nbformat": 4,
 "nbformat_minor": 5
}
