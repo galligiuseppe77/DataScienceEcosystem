{
 "cells": [
  {
   "cell_type": "markdown",
   "id": "d6e8a7ed-4243-4977-9c51-5a0345434add",
   "metadata": {},
   "source": [
    "<center>\n",
    "    <img src=\"https://cf-courses-data.s3.us.cloud-object-storage.appdomain.cloud/IBMDeveloperSkillsNetwork-DS0105EN-SkillsNetwork/labs/Module2/images/SN_web_lightmode.png\" width=\"300\" alt=\"cognitiveclass.ai logo\">\n",
    "</center>\n"
   ]
  },
  {
   "cell_type": "markdown",
   "id": "128071e4-4adb-404c-a444-eac752675b81",
   "metadata": {},
   "source": [
    "# Data Science Tools and Ecosystem"
   ]
  },
  {
   "cell_type": "markdown",
   "id": "5e10fd67-1c43-46f0-8cb4-389a3a5dd5b2",
   "metadata": {},
   "source": [
    "In this notebook, Data Science Tools and Ecosystem are summarized.\n"
   ]
  },
  {
   "cell_type": "markdown",
   "id": "1cac3fc1-f54f-49c7-a650-352b71ca8e46",
   "metadata": {},
   "source": [
    "Some of the popular languages that Data Scientists use are:\n",
    "\n",
    "1. **Python**  \n",
    "2. **R**  \n",
    "3. **SQL** \n",
    "4. **Julia**  \n",
    "5. **Scala**  "
   ]
  },
  {
   "cell_type": "markdown",
   "id": "569bb852-21b3-4bcb-8f0c-019ccf5dbfe9",
   "metadata": {},
   "source": [
    "**Objectives:**\n",
    "\n",
    "- List popular languages for Data Science\n",
    "- Identify commonly used libraries for Data Science\n",
    "- Introduce open-source Data Science tools\n",
    "- Demonstrate basic arithmetic operations in Python\n",
    "- Show how to convert units in Python"
   ]
  },
  {
   "cell_type": "markdown",
   "id": "a740ab62-6a55-4d08-88e4-eb65eddcae05",
   "metadata": {},
   "source": [
    "| Data Science Tools |\n",
    "|--------------------|\n",
    "| Jupyter Notebook   |\n",
    "| RStudio            |\n",
    "| VS Code            |"
   ]
  },
  {
   "cell_type": "markdown",
   "id": "da7bc723-45e8-4151-a8e6-3aca3dae46d4",
   "metadata": {},
   "source": [
    "### Below are a few examples of evaluating arithmetic expressions in Python\n",
    "\n",
    "```python\n",
    "# Examples of arithmetic expressions\n",
    "3 + 5      # Addition\n",
    "7 * 4      # Moltiplication\n",
    "15 / 3     # Division\n",
    "2 ** 4     # Esponent\n",
    "10 % 3     # Modulo (remainder of division)"
   ]
  },
  {
   "cell_type": "code",
   "execution_count": 8,
   "id": "4b7bfaa2-1719-4b48-b216-8b88f14954fa",
   "metadata": {},
   "outputs": [
    {
     "data": {
      "text/plain": [
       "17"
      ]
     },
     "execution_count": 8,
     "metadata": {},
     "output_type": "execute_result"
    }
   ],
   "source": [
    "# This is a simple arithmetic expression to multiply then add integers\n",
    "(3 * 4) + 5"
   ]
  },
  {
   "cell_type": "code",
   "execution_count": 10,
   "id": "693aa31e-6983-4c34-939e-1874313c2b5c",
   "metadata": {
    "scrolled": true
   },
   "outputs": [
    {
     "data": {
      "text/plain": [
       "3.3333333333333335"
      ]
     },
     "execution_count": 10,
     "metadata": {},
     "output_type": "execute_result"
    }
   ],
   "source": [
    "# This will convert 200 minutes to hours by dividing by 60\n",
    "200 / 60"
   ]
  },
  {
   "cell_type": "markdown",
   "id": "75cb5217-1320-4d1e-8a45-7807ae9c203d",
   "metadata": {},
   "source": [
    "## Author\n",
    "Giuseppe Galli"
   ]
  },
  {
   "cell_type": "code",
   "execution_count": null,
   "id": "66f7347d-d300-4da5-8410-ae542707579a",
   "metadata": {},
   "outputs": [],
   "source": []
  }
 ],
 "metadata": {
  "kernelspec": {
   "display_name": "Python [conda env:base] *",
   "language": "python",
   "name": "conda-base-py"
  },
  "language_info": {
   "codemirror_mode": {
    "name": "ipython",
    "version": 3
   },
   "file_extension": ".py",
   "mimetype": "text/x-python",
   "name": "python",
   "nbconvert_exporter": "python",
   "pygments_lexer": "ipython3",
   "version": "3.12.7"
  }
 },
 "nbformat": 4,
 "nbformat_minor": 5
}
